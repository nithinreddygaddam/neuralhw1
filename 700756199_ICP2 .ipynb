{
  "nbformat": 4,
  "nbformat_minor": 0,
  "metadata": {
    "colab": {
      "provenance": []
    },
    "kernelspec": {
      "name": "python3",
      "display_name": "Python 3"
    },
    "language_info": {
      "name": "python"
    }
  },
  "cells": [
    {
      "cell_type": "markdown",
      "source": [
        "                                      Neural Networks & Deep Learning ICP-2\n"
      ],
      "metadata": {
        "id": "QEjV2NcoNKN_"
      }
    },
    {
      "cell_type": "markdown",
      "source": [
        "Question - 1"
      ],
      "metadata": {
        "id": "FoU6pn68NkEf"
      }
    },
    {
      "cell_type": "code",
      "source": [
        "# Define a function to concatenate first_name and last_name into a full name\n",
        "def fullname(first_name, last_name):\n",
        "    full_name = first_name + \" \" + last_name\n",
        "    return full_name\n",
        "\n",
        "# Define a function to return every other character in a given string\n",
        "def string_alternative(full_name):\n",
        "    alternate_chars = \"\"\n",
        "    for i in range(0, len(full_name), 2):\n",
        "        alternate_chars += full_name[i]\n",
        "    return alternate_chars\n",
        "\n",
        "# Main function to collect user input, process it, and display results\n",
        "def main():\n",
        "    # Prompt the user to enter their first name\n",
        "    first_name = input(\"Enter your first name: \")\n",
        "\n",
        "    # Prompt the user to enter their last name\n",
        "    last_name = input(\"Enter your last name: \")\n",
        "\n",
        "    # Call the fullname function to concatenate the first and last names\n",
        "    full_name = fullname(first_name, last_name)\n",
        "\n",
        "    # Display the full name\n",
        "    print(\"Full Name:\", full_name)\n",
        "\n",
        "    # Call the string_alternative function to get alternate characters in the full name\n",
        "    alternate_chars = string_alternative(full_name)\n",
        "\n",
        "    # Display the alternate characters in the full name\n",
        "    print(\"Alternate Characters in Full Name:\", alternate_chars)\n",
        "\n",
        "# Check if the script is run as the main program\n",
        "if __name__ == \"__main__\":\n",
        "    main()\n"
      ],
      "metadata": {
        "colab": {
          "base_uri": "https://localhost:8080/"
        },
        "id": "dAkmZlppNWuQ",
        "outputId": "56a643f4-021b-4295-8a75-d5b815b2d4e9"
      },
      "execution_count": 1,
      "outputs": [
        {
          "output_type": "stream",
          "name": "stdout",
          "text": [
            "Enter your first name: nithin\n",
            "Enter your last name: reddy\n",
            "Full Name: nithin reddy\n",
            "Alternate Characters in Full Name: nti ed\n"
          ]
        }
      ]
    },
    {
      "cell_type": "markdown",
      "source": [
        "Question - 2"
      ],
      "metadata": {
        "id": "RukyF41BNrVG"
      }
    },
    {
      "cell_type": "code",
      "source": [
        "import re\n",
        "\n",
        "# Function to count words in a line\n",
        "def count_words(line, word_counts):\n",
        "    # Use regular expression to split the line into words and exclude punctuation\n",
        "    words = re.findall(r'\\b\\w+\\b', line.lower())\n",
        "    for word in words:\n",
        "        word_counts[word] = word_counts.get(word, 0) + 1\n",
        "\n",
        "# Read input from input.txt file\n",
        "with open(\"/content/input.txt\", \"r\") as input_file:\n",
        "    lines = input_file.readlines()\n",
        "\n",
        "# Initialize a dictionary to store word counts\n",
        "word_counts = {}\n",
        "\n",
        "# Count words in the entire file\n",
        "for line in lines:\n",
        "    count_words(line.strip(), word_counts)\n",
        "\n",
        "# Print the original lines\n",
        "print(\"Input:\")\n",
        "for line in lines:\n",
        "    print(line.strip())\n",
        "\n",
        "# Print the word counts, displaying each word only once\n",
        "print(\"Word_Count:\")\n",
        "displayed_words = set()\n",
        "for line in lines:\n",
        "    words = re.findall(r'\\b\\w+\\b', line.lower())\n",
        "    for word in words:\n",
        "        if word not in displayed_words:\n",
        "            print(f\"{word}: {word_counts[word]}\")\n",
        "            displayed_words.add(word)\n",
        "\n",
        "# Write the output to output.txt file\n",
        "with open(\"output.txt\", \"w\") as output_file:\n",
        "    output_file.write(\"Input:\\n\")\n",
        "    for line in lines:\n",
        "        output_file.write(line.strip() + \"\\n\")\n",
        "    output_file.write(\"Word_Count:\\n\")\n",
        "    for word in displayed_words:\n",
        "        output_file.write(f\"{word}: {word_counts[word]}\\n\")\n",
        "\n",
        "print(\"Output saved to output.txt\")\n",
        "\n",
        "\n",
        "\n"
      ],
      "metadata": {
        "colab": {
          "base_uri": "https://localhost:8080/"
        },
        "id": "M5eX_gAQNs-y",
        "outputId": "c3d86493-fc5c-418d-cc0a-cc9a7746f2c2"
      },
      "execution_count": null,
      "outputs": [
        {
          "output_type": "stream",
          "name": "stdout",
          "text": [
            "Input:\n",
            "Python Course\n",
            "Deep Learning Course\n",
            "Word_Count:\n",
            "python: 1\n",
            "course: 2\n",
            "deep: 1\n",
            "learning: 1\n",
            "Output saved to output.txt\n"
          ]
        }
      ]
    },
    {
      "cell_type": "markdown",
      "source": [
        "Question - 3"
      ],
      "metadata": {
        "id": "T-30I43cV9wA"
      }
    },
    {
      "cell_type": "code",
      "source": [
        "def convert_heights_nested(heights_inches):\n",
        "    heights_cm = []\n",
        "    for height in heights_inches:\n",
        "        cm = height * 2.54  # Conversion formula from inches to centimeters\n",
        "        heights_cm.append(round(cm, 2))  # Round to 2 decimal places and append to list\n",
        "    return heights_cm\n",
        "\n",
        "def main_nested():\n",
        "    # Input heights in inches\n",
        "    heights_inches = []\n",
        "    num_customers = int(input(\"Enter number of customers: \"))\n",
        "\n",
        "    for i in range(num_customers):\n",
        "        height = float(input(f\"Enter height of customer {i+1} (inches): \"))\n",
        "        heights_inches.append(height)\n",
        "\n",
        "    # Convert heights using nested interactive loop\n",
        "    heights_cm = convert_heights_nested(heights_inches)\n",
        "\n",
        "    # Print original and converted heights\n",
        "    print(\"Heights (inches):\", heights_inches)\n",
        "    print(\"Heights (centimeters):\", heights_cm)\n",
        "\n",
        "    # Optionally, you can save to a file or further process the data\n",
        "\n",
        "if __name__ == \"__main__\":\n",
        "    main_nested()\n"
      ],
      "metadata": {
        "colab": {
          "base_uri": "https://localhost:8080/"
        },
        "id": "KYJRv2TpkU5a",
        "outputId": "e5b3cc92-98c2-40fe-dd5d-3ae3af1e8252"
      },
      "execution_count": 4,
      "outputs": [
        {
          "output_type": "stream",
          "name": "stdout",
          "text": [
            "Enter number of customers: 3\n",
            "Enter height of customer 1 (inches): 123\n",
            "Enter height of customer 2 (inches): 321\n",
            "Enter height of customer 3 (inches): 345\n",
            "Heights (inches): [123.0, 321.0, 345.0]\n",
            "Heights (centimeters): [312.42, 815.34, 876.3]\n"
          ]
        }
      ]
    }
  ]
}
